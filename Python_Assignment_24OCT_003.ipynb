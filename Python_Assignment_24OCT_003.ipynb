{
 "cells": [
  {
   "cell_type": "markdown",
   "id": "4a1fd183",
   "metadata": {},
   "source": [
    "### 1. Why are functions advantageous to have in your programs?"
   ]
  },
  {
   "cell_type": "markdown",
   "id": "5b53122f",
   "metadata": {},
   "source": [
    "<b>1.</b> The advantage of function is to write a logical code ones and reuse it multiple time whenever similer kind of logic has to be implied.\n",
    "<br><br>\n",
    "We can avoid rewriting the same logic or code again and again in a program. In a single Program, we can call Python functions anywhere and also call multiple times. We can track a large Python program easily when it is divided into multiple functions."
   ]
  },
  {
   "cell_type": "markdown",
   "id": "593d7a88",
   "metadata": {},
   "source": [
    "### 2. When does the code in a function run: when it&#39;s specified or when it&#39;s called?"
   ]
  },
  {
   "cell_type": "markdown",
   "id": "8add0926",
   "metadata": {},
   "source": [
    "<b>2.</b> When a function is called in a program, then the interpreter goes inside the same name already defined function that has been called and start performing the set of tasks which has logically implied within it."
   ]
  },
  {
   "cell_type": "markdown",
   "id": "4e826010",
   "metadata": {},
   "source": [
    "### 3. What statement creates a function?"
   ]
  },
  {
   "cell_type": "markdown",
   "id": "7216a66c",
   "metadata": {},
   "source": [
    "<b>3.</b> The keyword **\"def\"** followed by the name of the function and ***()*** the opening and closing parenthesis and the arguments are passed within there parenthesis if required and then followed by ***:*** colon. The next line of code inside the function are always indented.\n",
    "<br>\n",
    "Example - <br>\n",
    "    def add_two_numbers():\n",
    "    <ol>\n",
    "        add = a + b"
   ]
  },
  {
   "cell_type": "markdown",
   "id": "4e86271b",
   "metadata": {},
   "source": [
    "### 4. What is the difference between a function and a function call?"
   ]
  },
  {
   "cell_type": "markdown",
   "id": "56e5712c",
   "metadata": {},
   "source": [
    "<b>4.</b> A ***function*** is a block of code that does a particular operation and returns a result. It usually accepts inputs as parameters and returns a result. The parameters are not mandatory. \n",
    "<br>\n",
    "A ***function call*** is the code used to pass control to a function"
   ]
  },
  {
   "cell_type": "markdown",
   "id": "e52505bf",
   "metadata": {},
   "source": [
    "### 5. How many global scopes are there in a Python program? How many local scopes?"
   ]
  },
  {
   "cell_type": "markdown",
   "id": "6c7cd846",
   "metadata": {},
   "source": [
    "<b>5.</b> There's ***only one global Python scope*** per program execution. This scope remains in existence until the program terminates and all its names are forgotten. Otherwise, the next time we were to run the program, the names would remember their values from the previous run.\n",
    "<br><br>\n",
    "There can be ***No Limit to how many local scope*** in a program. Though there is one condition that there should be only one namespace present within a scope. Same namespace variable can be used in another scope."
   ]
  },
  {
   "cell_type": "markdown",
   "id": "c9ce83df",
   "metadata": {},
   "source": [
    "### 6. What happens to variables in a local scope when the function call returns?"
   ]
  },
  {
   "cell_type": "markdown",
   "id": "b97eb834",
   "metadata": {},
   "source": [
    "<b>6.</b> When the execution of the function terminates (returns), the local variables are destroyed."
   ]
  },
  {
   "cell_type": "markdown",
   "id": "bbe453bb",
   "metadata": {},
   "source": [
    "### 7. What is the concept of a return value? Is it possible to have a return value in an expression?"
   ]
  },
  {
   "cell_type": "markdown",
   "id": "da2726f2",
   "metadata": {},
   "source": [
    "<b>7.</b>\n",
    "###### the concept of a return value\n",
    " In general, a function takes arguments (if any), performs some operations, and returns a value (or object). The value that a function returns to the caller is generally known as the function's return value. All Python functions have a return value, either explicit or implicit.\n",
    "<br>\n",
    "###### return value in an expression\n",
    "Yes, it is possible to have a return value in an expression\n",
    "<br>\n",
    "Example:\n"
   ]
  },
  {
   "cell_type": "code",
   "execution_count": 11,
   "id": "87148dfd",
   "metadata": {},
   "outputs": [],
   "source": [
    "def Func():\n",
    "    return 2*3*2.5"
   ]
  },
  {
   "cell_type": "code",
   "execution_count": 12,
   "id": "74aeb6c0",
   "metadata": {},
   "outputs": [
    {
     "data": {
      "text/plain": [
       "15.0"
      ]
     },
     "execution_count": 12,
     "metadata": {},
     "output_type": "execute_result"
    }
   ],
   "source": [
    "Func()"
   ]
  },
  {
   "cell_type": "markdown",
   "id": "b874a320",
   "metadata": {},
   "source": [
    "### 8. If a function does not have a return statement, what is the return value of a call to that function?"
   ]
  },
  {
   "cell_type": "markdown",
   "id": "b799a45a",
   "metadata": {},
   "source": [
    "<b>8.</b> return value of a call to that function would be None type."
   ]
  },
  {
   "cell_type": "code",
   "execution_count": 13,
   "id": "ed8db618",
   "metadata": {},
   "outputs": [],
   "source": [
    "def func():\n",
    "    print(\"Hi! This is None type function example\")"
   ]
  },
  {
   "cell_type": "code",
   "execution_count": 19,
   "id": "48faeee9",
   "metadata": {},
   "outputs": [
    {
     "name": "stdout",
     "output_type": "stream",
     "text": [
      "Hi! This is None type function example\n"
     ]
    },
    {
     "data": {
      "text/plain": [
       "NoneType"
      ]
     },
     "execution_count": 19,
     "metadata": {},
     "output_type": "execute_result"
    }
   ],
   "source": [
    "type(func())"
   ]
  },
  {
   "cell_type": "markdown",
   "id": "dd1dd028",
   "metadata": {},
   "source": [
    "### 9. How do you make a function variable refer to the global variable?"
   ]
  },
  {
   "cell_type": "markdown",
   "id": "41e635c9",
   "metadata": {},
   "source": [
    "<b>9.</b> Normally, when you create a variable inside a function, that variable is local, and can only be used inside that function. To create a global variable inside a function, you can use the global keyword."
   ]
  },
  {
   "cell_type": "code",
   "execution_count": 20,
   "id": "1997f587",
   "metadata": {},
   "outputs": [],
   "source": [
    "def myfunc():\n",
    "    global x\n",
    "    x = \"fantastic\""
   ]
  },
  {
   "cell_type": "code",
   "execution_count": 21,
   "id": "9fb29436",
   "metadata": {},
   "outputs": [],
   "source": [
    "myfunc()"
   ]
  },
  {
   "cell_type": "code",
   "execution_count": 22,
   "id": "d43f6aaa",
   "metadata": {},
   "outputs": [
    {
     "name": "stdout",
     "output_type": "stream",
     "text": [
      "Python is fantastic\n"
     ]
    }
   ],
   "source": [
    "print(\"Python is \" + x)"
   ]
  },
  {
   "cell_type": "markdown",
   "id": "352a7c61",
   "metadata": {},
   "source": [
    "### 10. What is the data type of None?"
   ]
  },
  {
   "cell_type": "markdown",
   "id": "a90afcd8",
   "metadata": {},
   "source": [
    "<b>10.</b> None is a data type of its own (NoneType) and only None can be None."
   ]
  },
  {
   "cell_type": "code",
   "execution_count": 23,
   "id": "89f54a0d",
   "metadata": {},
   "outputs": [
    {
     "name": "stdout",
     "output_type": "stream",
     "text": [
      "None is not True, or False, None is just None...\n"
     ]
    }
   ],
   "source": [
    "x = None\n",
    "\n",
    "if x:\n",
    "    print(\"Do you think None is True?\")\n",
    "elif x is False:\n",
    "    print (\"Do you think None is False?\")\n",
    "else:\n",
    "    print(\"None is not True, or False, None is just None...\")"
   ]
  },
  {
   "cell_type": "markdown",
   "id": "d2f4f042",
   "metadata": {},
   "source": [
    "### 11. What does the sentence import areallyourpetsnamederic do?"
   ]
  },
  {
   "cell_type": "markdown",
   "id": "79cd30c3",
   "metadata": {},
   "source": [
    "<b>11.</b> It imports the module named areallyourpetsnamederic."
   ]
  },
  {
   "cell_type": "markdown",
   "id": "f6ee4c45",
   "metadata": {},
   "source": [
    "### 12. If you had a bacon() feature in a spam module, what would you call it after importing spam?"
   ]
  },
  {
   "cell_type": "markdown",
   "id": "f02bc62b",
   "metadata": {},
   "source": [
    "<b>12.</b> \n",
    "import spam <br>\n",
    "spam.bacon()"
   ]
  },
  {
   "cell_type": "markdown",
   "id": "36af0f3f",
   "metadata": {},
   "source": [
    "### 13. What can you do to save a programme from crashing if it encounters an error?"
   ]
  },
  {
   "cell_type": "markdown",
   "id": "d1f0eb93",
   "metadata": {},
   "source": [
    "<b>13.</b> The try...catch will allow us to save a programme from crashing if it encounters an error.\n",
    "<br>\n",
    "When programme encounters an error, the control is passed to the except block, skipping the code in between."
   ]
  },
  {
   "cell_type": "code",
   "execution_count": 29,
   "id": "581150f3",
   "metadata": {},
   "outputs": [
    {
     "ename": "TypeError",
     "evalue": "unsupported operand type(s) for +: 'int' and 'str'",
     "output_type": "error",
     "traceback": [
      "\u001b[0;31m---------------------------------------------------------------------------\u001b[0m",
      "\u001b[0;31mTypeError\u001b[0m                                 Traceback (most recent call last)",
      "Input \u001b[0;32mIn [29]\u001b[0m, in \u001b[0;36m<cell line: 1>\u001b[0;34m()\u001b[0m\n\u001b[0;32m----> 1\u001b[0m x \u001b[38;5;241m=\u001b[39m \u001b[38;5;241;43m4\u001b[39;49m\u001b[38;5;241;43m+\u001b[39;49m\u001b[38;5;124;43m\"\u001b[39;49m\u001b[38;5;124;43mRam\u001b[39;49m\u001b[38;5;124;43m\"\u001b[39;49m\u001b[38;5;241m+\u001b[39m\u001b[38;5;241m3.5\u001b[39m\u001b[38;5;241m*\u001b[39m\u001b[38;5;241m10\u001b[39m\n",
      "\u001b[0;31mTypeError\u001b[0m: unsupported operand type(s) for +: 'int' and 'str'"
     ]
    }
   ],
   "source": [
    "x = 4+\"Ram\"+3.5*10"
   ]
  },
  {
   "cell_type": "code",
   "execution_count": 31,
   "id": "46b6ecb8",
   "metadata": {},
   "outputs": [
    {
     "name": "stdout",
     "output_type": "stream",
     "text": [
      "Error occurred\n"
     ]
    }
   ],
   "source": [
    "try:\n",
    "    x = 4+\"Ram\"+3.5*10\n",
    "except:\n",
    "    print('Error occurred')"
   ]
  },
  {
   "cell_type": "markdown",
   "id": "c4e226ef",
   "metadata": {},
   "source": [
    "### 14. What is the purpose of the try clause? What is the purpose of the except clause?"
   ]
  },
  {
   "cell_type": "markdown",
   "id": "45c85c3f",
   "metadata": {},
   "source": [
    "<b>14.</b> The ***try clause*** lets you test a block of code for errors. Its functionality is mostly similar to ***if*** clause.\n",
    "<br>\n",
    "The except block lets you handle the error."
   ]
  },
  {
   "cell_type": "code",
   "execution_count": null,
   "id": "0493bc00",
   "metadata": {},
   "outputs": [],
   "source": []
  },
  {
   "cell_type": "code",
   "execution_count": null,
   "id": "1c346675",
   "metadata": {},
   "outputs": [],
   "source": []
  }
 ],
 "metadata": {
  "kernelspec": {
   "display_name": "Python 3 (ipykernel)",
   "language": "python",
   "name": "python3"
  },
  "language_info": {
   "codemirror_mode": {
    "name": "ipython",
    "version": 3
   },
   "file_extension": ".py",
   "mimetype": "text/x-python",
   "name": "python",
   "nbconvert_exporter": "python",
   "pygments_lexer": "ipython3",
   "version": "3.8.10"
  }
 },
 "nbformat": 4,
 "nbformat_minor": 5
}
