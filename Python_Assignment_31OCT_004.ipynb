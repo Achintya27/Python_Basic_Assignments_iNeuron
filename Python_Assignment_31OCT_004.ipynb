{
 "cells": [
  {
   "cell_type": "markdown",
   "id": "08a85883",
   "metadata": {},
   "source": [
    "### 1. What exactly is []?"
   ]
  },
  {
   "cell_type": "markdown",
   "id": "c5c34453",
   "metadata": {},
   "source": [
    "<b>1.</b> The empty list value, which is a list value that contains no items."
   ]
  },
  {
   "cell_type": "markdown",
   "id": "32ce7815",
   "metadata": {},
   "source": [
    "### 2. In a list of values stored in a variable called spam, how would you assign the value &#39;hello&#39; as the third value? (Assume [2, 4, 6, 8, 10] are in spam.)"
   ]
  },
  {
   "cell_type": "code",
   "execution_count": 2,
   "id": "90bc4d3d",
   "metadata": {},
   "outputs": [
    {
     "data": {
      "text/plain": [
       "[2, 4, 'hello', 6, 8, 10]"
      ]
     },
     "execution_count": 2,
     "metadata": {},
     "output_type": "execute_result"
    }
   ],
   "source": [
    "spam = [2, 4, 6, 8, 10]\n",
    "spam.insert(2,\"hello\")\n",
    "spam"
   ]
  },
  {
   "cell_type": "markdown",
   "id": "c7f76c84",
   "metadata": {},
   "source": [
    "### Let&#39;s pretend the spam includes the list [&#39;a&#39;, &#39;b&#39;, &#39;c&#39;, &#39;d&#39;] for the next three queries."
   ]
  },
  {
   "cell_type": "markdown",
   "id": "b11e2f4d",
   "metadata": {},
   "source": [
    "spam = ['a', 'b', 'c', 'd']"
   ]
  },
  {
   "cell_type": "markdown",
   "id": "1270ce0e",
   "metadata": {},
   "source": [
    "### 3. What is the value of spam[int(int(&#39;3&#39; * 2) / 11)]?"
   ]
  },
  {
   "cell_type": "markdown",
   "id": "36ac7c99",
   "metadata": {},
   "source": [
    "<b>3.</b> 'd'"
   ]
  },
  {
   "cell_type": "markdown",
   "id": "d6445b82",
   "metadata": {},
   "source": [
    "### 4. What is the value of spam[-1]?"
   ]
  },
  {
   "cell_type": "markdown",
   "id": "9b0080aa",
   "metadata": {},
   "source": [
    "<b>4.</b> 'd'"
   ]
  },
  {
   "cell_type": "markdown",
   "id": "e3ddbfaa",
   "metadata": {},
   "source": [
    "### 5. What is the value of spam[:2]?"
   ]
  },
  {
   "cell_type": "markdown",
   "id": "b6774dfe",
   "metadata": {},
   "source": [
    "<b>5.</b> ['a','b']"
   ]
  },
  {
   "cell_type": "markdown",
   "id": "16d6d635",
   "metadata": {},
   "source": [
    "### Let&#39;s pretend bacon has the list [3.14, &#39;cat,&#39; 11, &#39;cat,&#39; True] for the next three questions."
   ]
  },
  {
   "cell_type": "markdown",
   "id": "62a9729b",
   "metadata": {},
   "source": [
    "bacon = [3.14, 'cat,' 11, 'cat,' True] "
   ]
  },
  {
   "cell_type": "code",
   "execution_count": 15,
   "id": "c46a5d39",
   "metadata": {},
   "outputs": [],
   "source": [
    "bacon = [3.14, 'cat', 11, 'cat', True]"
   ]
  },
  {
   "cell_type": "markdown",
   "id": "a2626410",
   "metadata": {},
   "source": [
    "### 6. What is the value of bacon.index('cat')?"
   ]
  },
  {
   "cell_type": "markdown",
   "id": "933fb526",
   "metadata": {},
   "source": [
    "<b>6.</b> 1"
   ]
  },
  {
   "cell_type": "markdown",
   "id": "5df8a5c5",
   "metadata": {},
   "source": [
    "### 7. How does bacon.append(99) change the look of the list value in bacon?"
   ]
  },
  {
   "cell_type": "markdown",
   "id": "8cf572aa",
   "metadata": {},
   "source": [
    "<b>7.</b> [3.14, 'cat', 11, 'cat', True, 99]"
   ]
  },
  {
   "cell_type": "markdown",
   "id": "6b224849",
   "metadata": {},
   "source": [
    "### 8. How does bacon.remove('cat') change the look of the list in bacon?"
   ]
  },
  {
   "cell_type": "markdown",
   "id": "1463bd4d",
   "metadata": {},
   "source": [
    "<b>8.</b> [3.14, 11, 'cat', True, 99]"
   ]
  },
  {
   "cell_type": "markdown",
   "id": "7869df93",
   "metadata": {},
   "source": [
    "### 9. What are the list concatenation and list replication operators?"
   ]
  },
  {
   "cell_type": "markdown",
   "id": "ce58eea0",
   "metadata": {},
   "source": [
    "<b>9.</b> The operator for list concatenation is ***+***, while the operator for replication is <b>*</b>"
   ]
  },
  {
   "cell_type": "code",
   "execution_count": 19,
   "id": "faf5362b",
   "metadata": {},
   "outputs": [
    {
     "data": {
      "text/plain": [
       "[1, 2, 3, 4]"
      ]
     },
     "execution_count": 19,
     "metadata": {},
     "output_type": "execute_result"
    }
   ],
   "source": [
    "l1=[1,2]\n",
    "l2=[3,4]\n",
    "l = l1+l2\n",
    "l"
   ]
  },
  {
   "cell_type": "code",
   "execution_count": 21,
   "id": "9b2f9bde",
   "metadata": {},
   "outputs": [
    {
     "data": {
      "text/plain": [
       "[1, 2, 1, 2]"
      ]
     },
     "execution_count": 21,
     "metadata": {},
     "output_type": "execute_result"
    }
   ],
   "source": [
    "l3 = [1,2,3]\n",
    "l_ = l1 * 2\n",
    "l_"
   ]
  },
  {
   "cell_type": "markdown",
   "id": "7a31e26f",
   "metadata": {},
   "source": [
    "### 10. What is difference between the list methods append() and insert()?"
   ]
  },
  {
   "cell_type": "markdown",
   "id": "9625b108",
   "metadata": {},
   "source": [
    "<b>10.</b> The ***append()*** method add element to the list at last position\n",
    "<br>\n",
    "While the ***insert()*** method can add element to specific position that is passed in the method with the element."
   ]
  },
  {
   "cell_type": "code",
   "execution_count": 23,
   "id": "bab201d5",
   "metadata": {},
   "outputs": [
    {
     "data": {
      "text/plain": [
       "[1, 2, 3, 10]"
      ]
     },
     "execution_count": 23,
     "metadata": {},
     "output_type": "execute_result"
    }
   ],
   "source": [
    "#append()\n",
    "lst1 = [1,2,3]\n",
    "lst1.append(10)\n",
    "lst1"
   ]
  },
  {
   "cell_type": "code",
   "execution_count": 25,
   "id": "8e6e239b",
   "metadata": {},
   "outputs": [
    {
     "data": {
      "text/plain": [
       "[6, 31, 8, 9, 22]"
      ]
     },
     "execution_count": 25,
     "metadata": {},
     "output_type": "execute_result"
    }
   ],
   "source": [
    "#insert()\n",
    "lst2 = [6,8,9,22]\n",
    "lst2.insert(1,31)\n",
    "lst2"
   ]
  },
  {
   "cell_type": "markdown",
   "id": "dcfb83a2",
   "metadata": {},
   "source": [
    "### 11. What are the two methods for removing items from a list?"
   ]
  },
  {
   "cell_type": "markdown",
   "id": "70d0b8cd",
   "metadata": {},
   "source": [
    "<b>11.</b> Two methods for removing items from a list are:\n",
    "<br>\n",
    "<ol>\n",
    "    i. pop() - Remove an item by index and get its value\n",
    "    <br>\n",
    "    ii. remove() - Remove an item by value"
   ]
  },
  {
   "cell_type": "markdown",
   "id": "68e08fae",
   "metadata": {},
   "source": [
    "### 12. Describe how list values and string values are identical."
   ]
  },
  {
   "cell_type": "markdown",
   "id": "7330b4d0",
   "metadata": {},
   "source": [
    "<b>12.</b> The"
   ]
  },
  {
   "cell_type": "code",
   "execution_count": null,
   "id": "eaa0b92c",
   "metadata": {},
   "outputs": [],
   "source": []
  }
 ],
 "metadata": {
  "kernelspec": {
   "display_name": "Python 3 (ipykernel)",
   "language": "python",
   "name": "python3"
  },
  "language_info": {
   "codemirror_mode": {
    "name": "ipython",
    "version": 3
   },
   "file_extension": ".py",
   "mimetype": "text/x-python",
   "name": "python",
   "nbconvert_exporter": "python",
   "pygments_lexer": "ipython3",
   "version": "3.8.10"
  }
 },
 "nbformat": 4,
 "nbformat_minor": 5
}
