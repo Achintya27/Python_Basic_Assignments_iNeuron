{
 "cells": [
  {
   "cell_type": "markdown",
   "id": "1a3a006d",
   "metadata": {},
   "source": [
    "### 1.What are the two values of the Boolean data type? How do you write them?"
   ]
  },
  {
   "cell_type": "markdown",
   "id": "760d0748",
   "metadata": {},
   "source": [
    "<b>1.</b> The two values of the Boolean data type are:<br>\n",
    "<ol>\n",
    "    i. True <br>\n",
    "    ii. False\n",
    "    </ol>\n",
    "As we already know that Python is a case sensitive language, the boolean type are keywords True and False.\n",
    "The \"T\" of true  and \"F\" of false must be uppercase and rest must be lowercase to behave as keyword."
   ]
  },
  {
   "cell_type": "markdown",
   "id": "93e7a9f7",
   "metadata": {},
   "source": [
    "### 2. What are the three different types of Boolean operators?"
   ]
  },
  {
   "cell_type": "markdown",
   "id": "81ce5d5b",
   "metadata": {},
   "source": [
    "<b>2.</b> The thre types of Boolean operators are: <br>\n",
    "    <ol>\n",
    "    i. AND <br>\n",
    "    ii. OR <br>\n",
    "    iii. NOT <br>\n",
    "    "
   ]
  },
  {
   "cell_type": "markdown",
   "id": "39e24e40",
   "metadata": {},
   "source": [
    "### 3. Make a list of each Boolean operator&#39;s truth tables (i.e. every possible combination of Boolean values for the operator and what it evaluate )."
   ]
  },
  {
   "cell_type": "markdown",
   "id": "2a2766fa",
   "metadata": {},
   "source": [
    "<b>3.</b> List of each Boolean operator's truth tables-"
   ]
  },
  {
   "cell_type": "code",
   "execution_count": 1,
   "id": "4773122a",
   "metadata": {},
   "outputs": [
    {
     "name": "stdout",
     "output_type": "stream",
     "text": [
      "True and True  : True\n",
      "True and False : False\n",
      "False and True : False\n",
      "False and False: False\n"
     ]
    }
   ],
   "source": [
    "# AND\n",
    "print(f\"True and True  : {True and True}\")\n",
    "print(f\"True and False : {True and False}\")\n",
    "print(f\"False and True : {False and True}\")\n",
    "print(f\"False and False: {False and False}\")"
   ]
  },
  {
   "cell_type": "code",
   "execution_count": 2,
   "id": "4f0fd5f9",
   "metadata": {},
   "outputs": [
    {
     "name": "stdout",
     "output_type": "stream",
     "text": [
      "True or True  : True\n",
      "True or False : True\n",
      "False or True : True\n",
      "False or False: False\n"
     ]
    }
   ],
   "source": [
    "# OR\n",
    "print(f\"True or True  : {True or True}\")\n",
    "print(f\"True or False : {True or False}\")\n",
    "print(f\"False or True : {False or True}\")\n",
    "print(f\"False or False: {False or False}\")"
   ]
  },
  {
   "cell_type": "code",
   "execution_count": 3,
   "id": "a54fb754",
   "metadata": {},
   "outputs": [
    {
     "name": "stdout",
     "output_type": "stream",
     "text": [
      "not True  : False\n",
      "not False : True\n"
     ]
    }
   ],
   "source": [
    "# NOT\n",
    "print(f\"not True  : {not True}\")\n",
    "print(f\"not False : {not False}\")"
   ]
  },
  {
   "cell_type": "markdown",
   "id": "6ff720fe",
   "metadata": {},
   "source": [
    "#### 4. What are the values of the following expressions?\n",
    "i. (5 &gt; 4) and (3 == 5) <br>\n",
    "ii. not (5 &gt; 4) <br>\n",
    "iii. (5 &gt; 4) or (3 == 5) <br>\n",
    "iv. not ((5 &gt; 4) or (3 == 5)) <br>\n",
    "v. (True and True) and (True == False) <br>\n",
    "vi. (not False) or (not True) <br>"
   ]
  },
  {
   "cell_type": "markdown",
   "id": "be22524d",
   "metadata": {},
   "source": [
    "<b>4.</b> <br>\n",
    "i. False <br>\n",
    "ii. False <br>\n",
    "iii. True <br>\n",
    "iv. False <br>\n",
    "v. False <br>\n",
    "vi. True <br>"
   ]
  },
  {
   "cell_type": "markdown",
   "id": "32a07d2e",
   "metadata": {},
   "source": [
    "### 5. What are the six comparison operators?"
   ]
  },
  {
   "cell_type": "markdown",
   "id": "f222087c",
   "metadata": {},
   "source": [
    "<b>5.</b> The SIX comparison operators are: <br>\n",
    "<ol>\n",
    "    i. Grater than (>) <br>\n",
    "    ii. Less than (<) <br>\n",
    "    iii. Equal to (==) <br>\n",
    "    iv. Greater than Equal to (>=) <br>\n",
    "    v. Less than Equal to (<=) <br>\n",
    "    vi. Not equal to (!=) <br>\n",
    "                     "
   ]
  },
  {
   "cell_type": "markdown",
   "id": "65a89bef",
   "metadata": {},
   "source": [
    "### 6. How do you tell the difference between the equal to and assignment operators?Describe a condition and when you would use one."
   ]
  },
  {
   "cell_type": "markdown",
   "id": "e3b39309",
   "metadata": {},
   "source": [
    "<b>6.</b> The equal to operator has double equal symbol which is \"==\" and it is used to comapre to value and check if they are equal or not. The equal to operator returns a Boolean value. <br>\n",
    "***Example-*** <br>4==5 or 9==9 <br>"
   ]
  },
  {
   "cell_type": "markdown",
   "id": "53d00228",
   "metadata": {},
   "source": [
    "Whereas the assignment operator has only one equal symbol which is \"=\" and it is useed to assign value to a variable. The assignment operator returns the value which has been assigned to it. <br>\n",
    "***Example-***  <br>\n",
    "a = 10. Here int value 10 has been assigned to variable named 'a', and 'a' stores the value 10"
   ]
  },
  {
   "cell_type": "markdown",
   "id": "6ec9755c",
   "metadata": {},
   "source": [
    "Suppose we have to store some value in some variable and then have to check which variable store same or exact value."
   ]
  },
  {
   "cell_type": "code",
   "execution_count": 4,
   "id": "5ddefa37",
   "metadata": {},
   "outputs": [
    {
     "name": "stdout",
     "output_type": "stream",
     "text": [
      "A=5, B=6, C=5\n",
      "Is A is equal to B: False\n",
      "Is B is equal to C: False\n",
      "Is A is equal to C: True\n"
     ]
    }
   ],
   "source": [
    "A = 5 #assignment operator\n",
    "B = 6 #assignment operator\n",
    "C = 5 #assignment operator\n",
    "print(f\"A={A}, B={B}, C={C}\")\n",
    "print(f\"Is A is equal to B: {A==B}\") #equal to operator\n",
    "print(f\"Is B is equal to C: {B==C}\") #equal to operator\n",
    "print(f\"Is A is equal to C: {C==A}\") #equal to operator"
   ]
  },
  {
   "cell_type": "markdown",
   "id": "b06cf31f",
   "metadata": {},
   "source": [
    "### 7. Identify the three blocks in this code:\n",
    "spam = 0 <br>\n",
    "if spam == 10: <br>\n",
    "print(\"eggs\") <br>\n",
    "if spam > 5: <br>\n",
    "print(\"bacon\") <br>\n",
    "else: <br>\n",
    "print(\"ham\") <br>\n",
    "print(\"spam\") <br>\n",
    "print(\"spam\") <br>"
   ]
  },
  {
   "cell_type": "markdown",
   "id": "395f2b39",
   "metadata": {},
   "source": [
    "<b>7.</b> Three blocks of code are: <br>\n",
    "spam = 0 <br>  \n",
    "if spam == 10: <br> \n",
    "<ol>print(\"eggs\")   #Block 1<br></ol>  \n",
    "if spam > 5: <br> \n",
    "<ol>print(\"bacon\") #Block 2<br></ol>   \n",
    "else: <br>\n",
    "<ol>print(\"ham\")    #Block 3<br> \n",
    "print(\"spam\")   #Block 3<br> \n",
    "print(\"spam\")   #Block 3<br></ol>"
   ]
  },
  {
   "cell_type": "markdown",
   "id": "b9ccba1a",
   "metadata": {},
   "source": [
    "### 8. Write code that prints Hello if 1 is stored in spam, prints Howdy if 2 is stored in spam, and prints Greetings! if anything else is stored in spam."
   ]
  },
  {
   "cell_type": "markdown",
   "id": "66e557f5",
   "metadata": {},
   "source": [
    "<b>8.</b>"
   ]
  },
  {
   "cell_type": "code",
   "execution_count": 6,
   "id": "9c733ca2",
   "metadata": {},
   "outputs": [
    {
     "name": "stdout",
     "output_type": "stream",
     "text": [
      "Enter the value of spam: 2\n",
      "Howdy\n"
     ]
    }
   ],
   "source": [
    "spam = int(input(\"Enter the value of spam: \"))\n",
    "if spam == 1:\n",
    "    print(\"Hello\")\n",
    "elif spam == 2:\n",
    "    print(\"Howdy\")\n",
    "else:\n",
    "    print(\"Greetings!\")"
   ]
  },
  {
   "cell_type": "markdown",
   "id": "449d7b90",
   "metadata": {},
   "source": [
    "### 9.If your programme is stuck in an endless loop, what keys you’ll press?"
   ]
  },
  {
   "cell_type": "markdown",
   "id": "c7850de8",
   "metadata": {},
   "source": [
    "<b>9.</b>\n",
    "We can stop an infinite loop with CTRL + C"
   ]
  },
  {
   "cell_type": "markdown",
   "id": "8768f58a",
   "metadata": {},
   "source": [
    "### 10. How can you tell the difference between break and continue?"
   ]
  },
  {
   "cell_type": "markdown",
   "id": "6d7ea087",
   "metadata": {},
   "source": [
    "<b>10.</b> One of the major difference between the break statement and the continue statement is that when the break statement is executed the interpreter exits the loop and interprets next line of code  after the loop. While when the continue statement is executed, interpreter skip the code but does not exit the loop."
   ]
  },
  {
   "cell_type": "code",
   "execution_count": 13,
   "id": "a2ea47cf",
   "metadata": {},
   "outputs": [
    {
     "name": "stdout",
     "output_type": "stream",
     "text": [
      "1\n",
      "2\n",
      "3\n",
      "4\n"
     ]
    }
   ],
   "source": [
    "# break statement\n",
    "for i in range(1,10):\n",
    "    if i % 5 == 0:\n",
    "        break\n",
    "\n",
    "    print(i)"
   ]
  },
  {
   "cell_type": "code",
   "execution_count": 14,
   "id": "0635d36f",
   "metadata": {},
   "outputs": [
    {
     "name": "stdout",
     "output_type": "stream",
     "text": [
      "1\n",
      "2\n",
      "3\n",
      "4\n",
      "6\n",
      "7\n",
      "8\n",
      "9\n"
     ]
    }
   ],
   "source": [
    "# continue statement\n",
    "for i in range(1,10):\n",
    "    if i % 5 == 0:\n",
    "        continue\n",
    "    print(i)"
   ]
  },
  {
   "cell_type": "markdown",
   "id": "d8a8cd95",
   "metadata": {},
   "source": [
    "### 11. In a for loop, what is the difference between range(10), range(0, 10), and range(0, 10, 1)?"
   ]
  },
  {
   "cell_type": "markdown",
   "id": "5dabf734",
   "metadata": {},
   "source": [
    "<b>11.</b><br>\n",
    "<b> ***range(10)***: </b> In this for loop, only one argument is mentioned which is the end of the loop, so loop always starts from 0.\n",
    "<br><br>\n",
    "<b> ***range(0, 10)***: </b> In this for loop,there are two arguments mentioned which are the starting point and the end point. In the mentioned example the loop will start from 0 and it run till 9.\n",
    "<br><br>\n",
    "<b> ***range(0, 10, 1)***: </b> In this for loop there are three arguments which are, first, the starting point, second is the end point and third is the value by which the loop will skip that number of steps while iterating."
   ]
  },
  {
   "cell_type": "code",
   "execution_count": 20,
   "id": "d5e862eb",
   "metadata": {},
   "outputs": [
    {
     "name": "stdout",
     "output_type": "stream",
     "text": [
      "0, 1, 2, 3, 4, 5, 6, 7, 8, 9, "
     ]
    }
   ],
   "source": [
    "# range(10)\n",
    "for i in range(10):\n",
    "    print(i,end=\", \")"
   ]
  },
  {
   "cell_type": "code",
   "execution_count": 21,
   "id": "4ec1e73b",
   "metadata": {},
   "outputs": [
    {
     "name": "stdout",
     "output_type": "stream",
     "text": [
      "2, 3, 4, 5, 6, 7, 8, 9, "
     ]
    }
   ],
   "source": [
    "# range(0,10):\n",
    "for i in range(2,10):\n",
    "    print(i,end=\", \")"
   ]
  },
  {
   "cell_type": "code",
   "execution_count": 24,
   "id": "b677503d",
   "metadata": {},
   "outputs": [
    {
     "name": "stdout",
     "output_type": "stream",
     "text": [
      "1, 4, 7, "
     ]
    }
   ],
   "source": [
    "# range(0,10,1)\n",
    "for i in range(1,10,3):\n",
    "    print(i,end=\", \")"
   ]
  },
  {
   "cell_type": "markdown",
   "id": "af20ec15",
   "metadata": {},
   "source": [
    "### 12. Write a short program that prints the numbers 1 to 10 using a for loop. Then write an equivalent program that prints the numbers 1 to 10 using a while loop."
   ]
  },
  {
   "cell_type": "markdown",
   "id": "e71b9563",
   "metadata": {},
   "source": [
    "<b>12.</b>"
   ]
  },
  {
   "cell_type": "code",
   "execution_count": 25,
   "id": "e83e823f",
   "metadata": {},
   "outputs": [
    {
     "name": "stdout",
     "output_type": "stream",
     "text": [
      "1, 2, 3, 4, 5, 6, 7, 8, 9, 10, "
     ]
    }
   ],
   "source": [
    "#By using for loop\n",
    "for i in range(1,11):\n",
    "    print(i,end=', ')"
   ]
  },
  {
   "cell_type": "code",
   "execution_count": 28,
   "id": "5431ba38",
   "metadata": {},
   "outputs": [
    {
     "name": "stdout",
     "output_type": "stream",
     "text": [
      "1, 2, 3, 4, 5, 6, 7, 8, 9, 10, "
     ]
    }
   ],
   "source": [
    "#By using while loop\n",
    "i = 1\n",
    "while i<=10:\n",
    "    print(i,end=\", \")\n",
    "    i+=1"
   ]
  },
  {
   "cell_type": "markdown",
   "id": "e54772c2",
   "metadata": {},
   "source": [
    "### 13. If you had a function named bacon() inside a module named spam, how would you call it after importing spam?"
   ]
  },
  {
   "cell_type": "markdown",
   "id": "e71dc7fc",
   "metadata": {},
   "source": [
    "<b>13.</b>\n",
    "<br>\n",
    "import spam\n",
    "\n",
    "spam.bacon()\n",
    "\n",
    "##### OR\n",
    "\n",
    "from spam import bacon"
   ]
  }
 ],
 "metadata": {
  "kernelspec": {
   "display_name": "Python 3 (ipykernel)",
   "language": "python",
   "name": "python3"
  },
  "language_info": {
   "codemirror_mode": {
    "name": "ipython",
    "version": 3
   },
   "file_extension": ".py",
   "mimetype": "text/x-python",
   "name": "python",
   "nbconvert_exporter": "python",
   "pygments_lexer": "ipython3",
   "version": "3.8.10"
  }
 },
 "nbformat": 4,
 "nbformat_minor": 5
}
