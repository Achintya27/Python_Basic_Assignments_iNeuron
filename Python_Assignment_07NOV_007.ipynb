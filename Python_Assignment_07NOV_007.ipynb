{
 "cells": [
  {
   "cell_type": "markdown",
   "id": "b5316636",
   "metadata": {},
   "source": [
    "### 1. What is the name of the feature responsible for generating Regex objects?"
   ]
  },
  {
   "cell_type": "markdown",
   "id": "ed645c25",
   "metadata": {},
   "source": [
    "<b>1.</b> re.compile()"
   ]
  },
  {
   "cell_type": "markdown",
   "id": "59c05641",
   "metadata": {},
   "source": [
    "### 2. Why do raw strings often appear in Regex objects?"
   ]
  },
  {
   "cell_type": "markdown",
   "id": "8bf26944",
   "metadata": {},
   "source": [
    "<b>2.</b> Raw strings often appear in Regex objects so that backslashes do not have to be escaped."
   ]
  },
  {
   "cell_type": "markdown",
   "id": "f4747c02",
   "metadata": {},
   "source": [
    "### 3. What is the return value of the search() method?"
   ]
  },
  {
   "cell_type": "markdown",
   "id": "6055fe36",
   "metadata": {},
   "source": [
    "<b>3.</b> The return value of the ***search()*** method is Match objects."
   ]
  },
  {
   "cell_type": "markdown",
   "id": "64ae7d8c",
   "metadata": {},
   "source": [
    "### 4. From a Match item, how do you get the actual strings that match the pattern?"
   ]
  },
  {
   "cell_type": "markdown",
   "id": "c4e0f5c5",
   "metadata": {},
   "source": [
    "<b>4.</b> We get the actual strings that match the pattern is ***group() method.***"
   ]
  },
  {
   "cell_type": "markdown",
   "id": "8e0e5596",
   "metadata": {},
   "source": [
    "### 5. In the regex which created from the r'(\\d\\d\\d)-(\\d\\d\\d-\\d\\d\\d\\d)', what does group zero cover? Group 2? Group 1?"
   ]
  },
  {
   "cell_type": "markdown",
   "id": "422761f1",
   "metadata": {},
   "source": [
    "<b>5.</b> Group 0 covers entire match.\n",
    "<br>\n",
    "Group 1 covers the first set of parentheses (\\d\\d\\d)\n",
    "<br>\n",
    "Group 2 covers the second set of parentheses (\\d\\d\\d-\\d\\d\\d\\d)."
   ]
  },
  {
   "cell_type": "markdown",
   "id": "a603864d",
   "metadata": {},
   "source": [
    "### 6. In standard expression syntax, parentheses and intervals have distinct meanings. How can you tell a regex that you want it to fit real parentheses and periods?\n"
   ]
  },
  {
   "cell_type": "markdown",
   "id": "060961c8",
   "metadata": {},
   "source": [
    "<b>6.</b> Periods and parentheses can be escaped with a backslash.\n",
    "\n",
    "\\\\. \n",
    "\n",
    "\\\\( \n",
    "\n",
    "\\\\)"
   ]
  },
  {
   "cell_type": "markdown",
   "id": "b08293ef",
   "metadata": {},
   "source": [
    "### 7. The findall() method returns a string list or a list of string tuples. What causes it to return one of the two options?"
   ]
  },
  {
   "cell_type": "markdown",
   "id": "6e75b840",
   "metadata": {},
   "source": [
    "<b>7.</b> If the regex has no groups, a list of strings is returned. \n",
    "<br>\n",
    "If the regex has groups, a list of tuples of strings is returned."
   ]
  },
  {
   "cell_type": "markdown",
   "id": "0b32f276",
   "metadata": {},
   "source": [
    "### 8. In standard expressions, what does the | character mean?"
   ]
  },
  {
   "cell_type": "markdown",
   "id": "3b2362fb",
   "metadata": {},
   "source": [
    "<b>8.</b> The | character signifies matching \"either, or\" between two groups."
   ]
  },
  {
   "cell_type": "markdown",
   "id": "61a6811d",
   "metadata": {},
   "source": [
    "### 9. In regular expressions, what does the character stand for?"
   ]
  },
  {
   "cell_type": "markdown",
   "id": "347147d9",
   "metadata": {},
   "source": [
    "<b>9.</b> The ***?*** character can either mean \"match zero or one of the preceding group\" or be used to signify nongreedy matching."
   ]
  },
  {
   "cell_type": "markdown",
   "id": "6ba62e22",
   "metadata": {},
   "source": [
    "### 10.In regular expressions, what is the difference between the + and * characters?"
   ]
  },
  {
   "cell_type": "markdown",
   "id": "a2ea349f",
   "metadata": {},
   "source": [
    "<b>10.</b> The ***+*** matches one or more. The ***\\**** matches zero or more."
   ]
  },
  {
   "cell_type": "markdown",
   "id": "e86d7e00",
   "metadata": {},
   "source": [
    "### 11. What is the difference between {4} and {4,5} in regular expression?"
   ]
  },
  {
   "cell_type": "markdown",
   "id": "403569ad",
   "metadata": {},
   "source": [
    "<b>11.</b> The {4} matches exactly four instances of the preceding group. The {4,5} matches between four and five instances."
   ]
  },
  {
   "cell_type": "markdown",
   "id": "a81ee443",
   "metadata": {},
   "source": [
    "### 12. What do you mean by the \\d, \\w, and \\s shorthand character classes signify in regular expressions?"
   ]
  },
  {
   "cell_type": "markdown",
   "id": "4cf4c57b",
   "metadata": {},
   "source": [
    "<b>12.</b> \\d - Matches one digit.<br>\n",
    "\\w - Matches one word character.<br>\n",
    "\\s - Matches one whitespace.<br>"
   ]
  },
  {
   "cell_type": "markdown",
   "id": "e49d77da",
   "metadata": {},
   "source": [
    "### 13. What do means by \\D, \\W, and \\S shorthand character classes signify in regular expressions?"
   ]
  },
  {
   "cell_type": "markdown",
   "id": "f6ac72d1",
   "metadata": {},
   "source": [
    "<b>13.</b> \\D - Matches any character which is ***not a decimal digit***.<br>\n",
    "\\W - Matches any character which is ***not a word character***.<br>\n",
    "\\S - Matches any character which is ***not a whitespace character***.<br>"
   ]
  },
  {
   "cell_type": "markdown",
   "id": "8ea4bc67",
   "metadata": {},
   "source": [
    "### 14. What is the difference between \".* ?\" and \".*\" "
   ]
  },
  {
   "cell_type": "markdown",
   "id": "2e941b6d",
   "metadata": {},
   "source": [
    "<b>14.</b> The .*?  performs a nongreedy match."
   ]
  },
  {
   "cell_type": "markdown",
   "id": "9c837199",
   "metadata": {},
   "source": [
    "The .* performs a greedy match"
   ]
  },
  {
   "cell_type": "markdown",
   "id": "216dd837",
   "metadata": {},
   "source": [
    "### 15. What is the syntax for matching both numbers and lowercase letters with a character class?"
   ]
  },
  {
   "cell_type": "markdown",
   "id": "aeb4ae6c",
   "metadata": {},
   "source": [
    "<b>15.</b> Either [a-z0-9] or [0-9a-z]."
   ]
  },
  {
   "cell_type": "markdown",
   "id": "151d9608",
   "metadata": {},
   "source": [
    "### 16. What is the procedure for making a normal expression in regax case insensitive?"
   ]
  },
  {
   "cell_type": "markdown",
   "id": "efe37fb8",
   "metadata": {},
   "source": [
    "<b>16.</b> re.I or re.IGNORECASE as the second argument to re.compile() will make the matching case insensitive."
   ]
  },
  {
   "cell_type": "markdown",
   "id": "2fc57aed",
   "metadata": {},
   "source": [
    "### 17. What does the . character normally match? What does it match if re.DOTALL is passed as 2nd argument in re.compile()?"
   ]
  },
  {
   "cell_type": "markdown",
   "id": "599ea5ca",
   "metadata": {},
   "source": [
    "<b>17.</b> The . character normally matches any character except the newline character. \n",
    "\n",
    "If re.DOTALL is passed as the 2nd argument to re.compile(), then it will also match newline characters."
   ]
  },
  {
   "cell_type": "markdown",
   "id": "c5944ba9",
   "metadata": {},
   "source": [
    "### 18. If numReg = re.compile(r'\\d+'), what will numRegex.sub('X', '11 drummers, 10 pipers, five rings, 4 hen') return?"
   ]
  },
  {
   "cell_type": "markdown",
   "id": "11b10e6e",
   "metadata": {},
   "source": [
    "<b>18.</b>"
   ]
  },
  {
   "cell_type": "code",
   "execution_count": 12,
   "id": "cb230d4d",
   "metadata": {},
   "outputs": [
    {
     "data": {
      "text/plain": [
       "'X drummers, X pipers, five rings, X hen'"
      ]
     },
     "execution_count": 12,
     "metadata": {},
     "output_type": "execute_result"
    }
   ],
   "source": [
    "numReg = re.compile(r'\\d+')\n",
    "numReg.sub('X', '11 drummers, 10 pipers, five rings, 4 hen')"
   ]
  },
  {
   "cell_type": "markdown",
   "id": "2c47166a",
   "metadata": {},
   "source": [
    "### 19. What does passing re.VERBOSE as the 2nd argument to re.compile() allow to do?"
   ]
  },
  {
   "cell_type": "markdown",
   "id": "f31a3a34",
   "metadata": {},
   "source": [
    "<b>19.</b> The re.VERBOSE argument allows you to add whitespace and comments to the string passed to re.compile()."
   ]
  },
  {
   "cell_type": "markdown",
   "id": "17879625",
   "metadata": {},
   "source": [
    "### 20. How would you write a regex that match a number with comma for every three digits? It must match the given following:\n",
    "'42'\n",
    "\n",
    "'1,234'\n",
    "\n",
    "'6,368,745'\n",
    "\n",
    "### but not the following:\n",
    "\n",
    "'12,34,567' (which has only two digits between the commas)\n",
    "\n",
    "'1234' (which lacks commas)\n"
   ]
  },
  {
   "cell_type": "markdown",
   "id": "9ed554ae",
   "metadata": {},
   "source": [
    "<b>20.</b>"
   ]
  },
  {
   "cell_type": "code",
   "execution_count": 28,
   "id": "b570e5eb",
   "metadata": {},
   "outputs": [],
   "source": [
    "import re\n",
    "regex = re.compile(r\"^\\d{1,3}(,\\d{3})*$\")                   "
   ]
  },
  {
   "cell_type": "code",
   "execution_count": 29,
   "id": "ef6c3624",
   "metadata": {},
   "outputs": [
    {
     "name": "stdout",
     "output_type": "stream",
     "text": [
      "<re.Match object; span=(0, 2), match='42'>\n",
      "<re.Match object; span=(0, 5), match='1,234'>\n",
      "<re.Match object; span=(0, 9), match='6,368,745'>\n"
     ]
    }
   ],
   "source": [
    "print(regex.match(\"42\"))\n",
    "print(regex.match(\"1,234\"))\n",
    "print(regex.match(\"6,368,745\"))"
   ]
  },
  {
   "cell_type": "code",
   "execution_count": 30,
   "id": "0bdafc08",
   "metadata": {},
   "outputs": [
    {
     "name": "stdout",
     "output_type": "stream",
     "text": [
      "None\n",
      "None\n"
     ]
    }
   ],
   "source": [
    "print(regex.match(\"12,34,567\"))\n",
    "print(regex.match(\"1234\"))"
   ]
  },
  {
   "cell_type": "markdown",
   "id": "2aa8c3f8",
   "metadata": {},
   "source": [
    "### 21. How would you write a regex that matches the full name of someone whose last name is Watanabe? You can assume that the first name that comes before it will always be one word that begins with a capital letter. The regex must match the following:\n",
    "\n",
    "'Haruto Watanabe'\n",
    "\n",
    "'Alice Watanabe'\n",
    "\n",
    "'RoboCop Watanabe'\n",
    "\n",
    "### but not the following:\n",
    "\n",
    "'haruto Watanabe' (where the first name is not capitalized)\n",
    "\n",
    "'Mr. Watanabe' (where the preceding word has a nonletter character)\n",
    "\n",
    "'Watanabe' (which has no first name)\n",
    "\n",
    "'Haruto watanabe' (where Watanabe is not capitalized)"
   ]
  },
  {
   "cell_type": "markdown",
   "id": "1e204986",
   "metadata": {},
   "source": [
    "<b>21."
   ]
  },
  {
   "cell_type": "code",
   "execution_count": 39,
   "id": "b8c4cc62",
   "metadata": {},
   "outputs": [
    {
     "name": "stdout",
     "output_type": "stream",
     "text": [
      "<re.Match object; span=(0, 15), match='Haruto Watanabe'>\n",
      "<re.Match object; span=(0, 14), match='Alice Watanabe'>\n",
      "<re.Match object; span=(0, 16), match='RoboCop Watanabe'>\n"
     ]
    }
   ],
   "source": [
    "import re\n",
    "regex1 = re.compile(r\"[A-Z]\\w+\\sWatanabe\")\n",
    "print(regex1.match('Haruto Watanabe'))\n",
    "print(regex1.match('Alice Watanabe'))\n",
    "print(regex1.match('RoboCop Watanabe'))"
   ]
  },
  {
   "cell_type": "code",
   "execution_count": 40,
   "id": "c15f0160",
   "metadata": {},
   "outputs": [
    {
     "name": "stdout",
     "output_type": "stream",
     "text": [
      "None\n",
      "None\n",
      "None\n",
      "None\n"
     ]
    }
   ],
   "source": [
    "print(regex1.match('haruto Watanabe'))\n",
    "print(regex1.match('Mr. Watanabe'))\n",
    "print(regex1.match('Watanabe'))\n",
    "print(regex1.match('Haruto watanabe'))"
   ]
  },
  {
   "cell_type": "markdown",
   "id": "f45a626b",
   "metadata": {},
   "source": [
    "### 22. How would you write a regex that matches a sentence where the first word is either Alice, Bob, or Carol; the second word is either eats, pets, or throws; the third word is apples, cats, or baseballs; and the sentence ends with a period? This regex should be case-insensitive. It must match the following:\n",
    "\n",
    "'Alice eats apples.'\n",
    "\n",
    "'Bob pets cats.'\n",
    "\n",
    "'Carol throws baseballs.'\n",
    "\n",
    "'Alice throws Apples.'\n",
    "\n",
    "'BOB EATS CATS.'\n",
    "\n",
    "### but not the following:\n",
    "\n",
    "'RoboCop eats apples.'\n",
    "\n",
    "'ALICE THROWS FOOTBALLS.'\n",
    "\n",
    "'Carol eats 7 cats.'"
   ]
  },
  {
   "cell_type": "markdown",
   "id": "a5886606",
   "metadata": {},
   "source": [
    "<b>22.</b>"
   ]
  },
  {
   "cell_type": "code",
   "execution_count": 44,
   "id": "8274086f",
   "metadata": {},
   "outputs": [
    {
     "name": "stdout",
     "output_type": "stream",
     "text": [
      "<re.Match object; span=(0, 18), match='Alice eats apples.'>\n",
      "<re.Match object; span=(0, 14), match='Bob pets cats.'>\n",
      "<re.Match object; span=(0, 23), match='Carol throws baseballs.'>\n",
      "<re.Match object; span=(0, 20), match='Alice throws Apples.'>\n",
      "<re.Match object; span=(0, 14), match='BOB EATS CATS.'>\n"
     ]
    }
   ],
   "source": [
    "import re\n",
    "regex = re.compile(r'(Alice|Bob|Carol)\\s(eats|pets|throws)\\s(apples|cats|baseballs)\\.', re.IGNORECASE)\n",
    "print(regex.match('Alice eats apples.'))\n",
    "print(regex.match('Bob pets cats.'))\n",
    "print(regex.match('Carol throws baseballs.'))\n",
    "print(regex.match('Alice throws Apples.'))\n",
    "print(regex.match('BOB EATS CATS.'))"
   ]
  },
  {
   "cell_type": "code",
   "execution_count": 45,
   "id": "4b739b4a",
   "metadata": {},
   "outputs": [
    {
     "name": "stdout",
     "output_type": "stream",
     "text": [
      "None\n",
      "None\n",
      "None\n"
     ]
    }
   ],
   "source": [
    "print(regex.match('RoboCop eats apples.'))\n",
    "print(regex.match('ALICE THROWS FOOTBALLS.'))\n",
    "print(regex.match('Carol eats 7 cats.'))"
   ]
  },
  {
   "cell_type": "code",
   "execution_count": null,
   "id": "f96a2343",
   "metadata": {},
   "outputs": [],
   "source": []
  }
 ],
 "metadata": {
  "kernelspec": {
   "display_name": "Python 3 (ipykernel)",
   "language": "python",
   "name": "python3"
  },
  "language_info": {
   "codemirror_mode": {
    "name": "ipython",
    "version": 3
   },
   "file_extension": ".py",
   "mimetype": "text/x-python",
   "name": "python",
   "nbconvert_exporter": "python",
   "pygments_lexer": "ipython3",
   "version": "3.8.10"
  }
 },
 "nbformat": 4,
 "nbformat_minor": 5
}
