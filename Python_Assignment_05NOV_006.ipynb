{
 "cells": [
  {
   "cell_type": "markdown",
   "id": "9af69820",
   "metadata": {},
   "source": [
    "### 1. What are escape characters, and how do you use them?"
   ]
  },
  {
   "cell_type": "markdown",
   "id": "5fa4b463",
   "metadata": {},
   "source": [
    "<b>1.</b> An escape character is a backslash ' \\\\ '  followed by the character you want to insert. Escape characters represent characters in string values that would otherwise be difficult or impossible to type into code. The escape character allows us to use double quotes when we normally would not be allowed.\n",
    "<br>\n",
    "\n",
    "The escape character allows you to use double quotes when you normally would not be allowed:\n"
   ]
  },
  {
   "cell_type": "code",
   "execution_count": 4,
   "id": "425c74a2",
   "metadata": {},
   "outputs": [
    {
     "data": {
      "text/plain": [
       "'Hi! My name is \"Achintya Asthana\". I live in Bangalore.'"
      ]
     },
     "execution_count": 4,
     "metadata": {},
     "output_type": "execute_result"
    }
   ],
   "source": [
    "txt = \"Hi! My name is \\\"Achintya Asthana\\\". I live in Bangalore.\"\n",
    "txt"
   ]
  },
  {
   "cell_type": "markdown",
   "id": "23a66fd2",
   "metadata": {},
   "source": [
    "### 2. What do the escape characters n and t stand for?"
   ]
  },
  {
   "cell_type": "markdown",
   "id": "56c6e76c",
   "metadata": {},
   "source": [
    "<b>2.</b> \n",
    "\n",
    "***\\n***- New Line\n",
    "<br>\n",
    "***\\t***- Tab"
   ]
  },
  {
   "cell_type": "markdown",
   "id": "1862530a",
   "metadata": {},
   "source": [
    "### 3. What is the way to include backslash characters in a string?"
   ]
  },
  {
   "cell_type": "markdown",
   "id": "1f0e231a",
   "metadata": {},
   "source": [
    "<b>3.</b> The \\\\\\ escape character will represent a backslash character."
   ]
  },
  {
   "cell_type": "markdown",
   "id": "b86cf390",
   "metadata": {},
   "source": [
    "### 4. The string \"Howl's Moving Castle\" is a correct value. Why isn't the single quote character in the word Howl's not escaped a problem?\n"
   ]
  },
  {
   "cell_type": "markdown",
   "id": "6481922d",
   "metadata": {},
   "source": [
    "<b>4.</b> The single quote in Howl's is fine because we've used double quotes to mark the beginning and end of the string."
   ]
  },
  {
   "cell_type": "markdown",
   "id": "eef43650",
   "metadata": {},
   "source": [
    "### 5. How do you write a string of newlines if you don't want to use the n character?\n"
   ]
  },
  {
   "cell_type": "markdown",
   "id": "c261d1ee",
   "metadata": {},
   "source": [
    "<b>5.</b> Multiline strings allows us to use newlines in strings without the \\n escape character."
   ]
  },
  {
   "cell_type": "markdown",
   "id": "d947a3ad",
   "metadata": {},
   "source": [
    "### 6. What are the values of the given expressions?\n",
    "'Hello, world!'[1]\n",
    "<br>\n",
    "'Hello, world!'[0:5]\n",
    "<br>\n",
    "'Hello, world!'[:5]\n",
    "<br>\n",
    "'Hello, world!'[3:]\n"
   ]
  },
  {
   "cell_type": "markdown",
   "id": "799ce8a9",
   "metadata": {},
   "source": [
    "<b>6.</b>\n",
    "\n",
    "'Hello, world!'[1] - 'e'\n",
    "<br>\n",
    "'Hello, world!'[0:5] - 'Hello'\n",
    "<br>\n",
    "'Hello, world!'[:5] - 'Hello'\n",
    "<br>\n",
    "'Hello, world!'[3:] - 'lo, world!'"
   ]
  },
  {
   "cell_type": "code",
   "execution_count": 10,
   "id": "cffab5ab",
   "metadata": {},
   "outputs": [
    {
     "data": {
      "text/plain": [
       "'e'"
      ]
     },
     "execution_count": 10,
     "metadata": {},
     "output_type": "execute_result"
    }
   ],
   "source": [
    "'Hello, world!'[1]"
   ]
  },
  {
   "cell_type": "code",
   "execution_count": 11,
   "id": "23d0e3e0",
   "metadata": {},
   "outputs": [
    {
     "data": {
      "text/plain": [
       "'Hello'"
      ]
     },
     "execution_count": 11,
     "metadata": {},
     "output_type": "execute_result"
    }
   ],
   "source": [
    "'Hello, world!'[0:5]"
   ]
  },
  {
   "cell_type": "code",
   "execution_count": 12,
   "id": "1dc81dbf",
   "metadata": {},
   "outputs": [
    {
     "data": {
      "text/plain": [
       "'Hello'"
      ]
     },
     "execution_count": 12,
     "metadata": {},
     "output_type": "execute_result"
    }
   ],
   "source": [
    "'Hello, world!'[:5]"
   ]
  },
  {
   "cell_type": "code",
   "execution_count": 13,
   "id": "e1e01395",
   "metadata": {},
   "outputs": [
    {
     "data": {
      "text/plain": [
       "'lo, world!'"
      ]
     },
     "execution_count": 13,
     "metadata": {},
     "output_type": "execute_result"
    }
   ],
   "source": [
    "'Hello, world!'[3:]"
   ]
  },
  {
   "cell_type": "markdown",
   "id": "9194a4a0",
   "metadata": {},
   "source": [
    "### 7. What are the values of the following expressions?\n",
    "\n",
    "'Hello'.upper()\n",
    "\n",
    "'Hello'.upper().isupper()\n",
    "\n",
    "'Hello'.upper().lower()\n"
   ]
  },
  {
   "cell_type": "markdown",
   "id": "cac90718",
   "metadata": {},
   "source": [
    "<b>7.</b>\n",
    "'Hello'.upper() - 'HELLO'\n",
    "\n",
    "'Hello'.upper().isupper() - True\n",
    "\n",
    "'Hello'.upper().lower() - 'hello'"
   ]
  },
  {
   "cell_type": "code",
   "execution_count": 17,
   "id": "4012a166",
   "metadata": {},
   "outputs": [
    {
     "data": {
      "text/plain": [
       "'HELLO'"
      ]
     },
     "execution_count": 17,
     "metadata": {},
     "output_type": "execute_result"
    }
   ],
   "source": [
    "'Hello'.upper()"
   ]
  },
  {
   "cell_type": "code",
   "execution_count": 18,
   "id": "dbdd524a",
   "metadata": {},
   "outputs": [
    {
     "data": {
      "text/plain": [
       "True"
      ]
     },
     "execution_count": 18,
     "metadata": {},
     "output_type": "execute_result"
    }
   ],
   "source": [
    "'Hello'.upper().isupper()"
   ]
  },
  {
   "cell_type": "code",
   "execution_count": 19,
   "id": "f42cf34b",
   "metadata": {},
   "outputs": [
    {
     "data": {
      "text/plain": [
       "'hello'"
      ]
     },
     "execution_count": 19,
     "metadata": {},
     "output_type": "execute_result"
    }
   ],
   "source": [
    "'Hello'.upper().lower()"
   ]
  },
  {
   "cell_type": "markdown",
   "id": "773b5976",
   "metadata": {},
   "source": [
    "### 8. What are the values of the following expressions?\n",
    "\n",
    "'Remember, remember, the fifth of July.'.split()\n",
    "<br>\n",
    "'-'.join('There can only one.'.split())\n"
   ]
  },
  {
   "cell_type": "markdown",
   "id": "704e2eb8",
   "metadata": {},
   "source": [
    "<b>8.</b>"
   ]
  },
  {
   "cell_type": "code",
   "execution_count": 20,
   "id": "96ccbe05",
   "metadata": {},
   "outputs": [
    {
     "data": {
      "text/plain": [
       "['Remember,', 'remember,', 'the', 'fifth', 'of', 'July.']"
      ]
     },
     "execution_count": 20,
     "metadata": {},
     "output_type": "execute_result"
    }
   ],
   "source": [
    "'Remember, remember, the fifth of July.'.split()"
   ]
  },
  {
   "cell_type": "code",
   "execution_count": 21,
   "id": "a1b0d2dd",
   "metadata": {},
   "outputs": [
    {
     "data": {
      "text/plain": [
       "'There-can-only-one.'"
      ]
     },
     "execution_count": 21,
     "metadata": {},
     "output_type": "execute_result"
    }
   ],
   "source": [
    "'-'.join('There can only one.'.split())"
   ]
  },
  {
   "cell_type": "markdown",
   "id": "cfd21ba2",
   "metadata": {},
   "source": [
    "### 9. What are the methods for right-justifying, left-justifying, and centering a string?\n"
   ]
  },
  {
   "cell_type": "markdown",
   "id": "ad7bbd94",
   "metadata": {},
   "source": [
    "<b>9.</b>\n",
    "right-justifying - <b>rjust()\n",
    "\n",
    "left-justifying - <b>ljust()\n",
    "\n",
    "centering - <b>center()"
   ]
  },
  {
   "cell_type": "markdown",
   "id": "539cf99e",
   "metadata": {},
   "source": [
    "### 10. What is the best way to remove whitespace characters from the start or end?"
   ]
  },
  {
   "cell_type": "markdown",
   "id": "964cc529",
   "metadata": {},
   "source": [
    "<b>10.</b> The ***lstrip()*** method remove whitespace characters from the start and ***rstrip()*** method remove whitespace characters from the end."
   ]
  },
  {
   "cell_type": "code",
   "execution_count": null,
   "id": "0c77c57d",
   "metadata": {},
   "outputs": [],
   "source": []
  }
 ],
 "metadata": {
  "kernelspec": {
   "display_name": "Python 3 (ipykernel)",
   "language": "python",
   "name": "python3"
  },
  "language_info": {
   "codemirror_mode": {
    "name": "ipython",
    "version": 3
   },
   "file_extension": ".py",
   "mimetype": "text/x-python",
   "name": "python",
   "nbconvert_exporter": "python",
   "pygments_lexer": "ipython3",
   "version": "3.8.10"
  }
 },
 "nbformat": 4,
 "nbformat_minor": 5
}
