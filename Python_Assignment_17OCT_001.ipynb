{
 "cells": [
  {
   "cell_type": "markdown",
   "id": "f13c5b06",
   "metadata": {},
   "source": [
    "### 1. In the below elements which of them are values or an expression? eg:- values can be integer or string and expressions will be mathematical operators.\n",
    "\n",
    "*\n",
    "'hello'\n",
    "-87.8\n",
    "-\n",
    "/\n",
    "+\n",
    "6"
   ]
  },
  {
   "cell_type": "markdown",
   "id": "18bb3bbb",
   "metadata": {},
   "source": [
    "### Answer 1.\n",
    "\n",
    "Value = 'hello', -87.8, 6<br></br>\n",
    "Expression = *, -, /, +"
   ]
  },
  {
   "cell_type": "markdown",
   "id": "5167c652",
   "metadata": {},
   "source": [
    "### 2. What is the difference between string and variable?"
   ]
  },
  {
   "cell_type": "markdown",
   "id": "6a08e524",
   "metadata": {},
   "source": [
    "### Answer 2.\n",
    "\n",
    "***Variable*** is a symbol used to store values in form of any Data Structures. You can think of them as an empty box that you fill with some data or value.<br></br>\n",
    "Example - <br></br>\n",
    "A = 24 <br></br>\n",
    "Here A is a varible and integer 24 is a value which is assigned to variable A\n",
    "<br></br>\n",
    "***String*** is a type of Data Structure, so we can use them to fill up a variable. <br></br>\n",
    "Example - <br></br>\n",
    "a = 'My Name is Lakhan.' <br></br>\n",
    "In this example 'My Name is Lakhan.' is a string data which is assigned to variable named a\n"
   ]
  },
  {
   "cell_type": "markdown",
   "id": "41baa991",
   "metadata": {},
   "source": [
    "### 3. Describe three different data types."
   ]
  },
  {
   "cell_type": "markdown",
   "id": "9abd3b8e",
   "metadata": {},
   "source": [
    "### Answer 3.\n",
    "There are 7 type of Data Types in Python\n",
    "<ol>\n",
    "    <b>1. Numeric data types:</b> int, float, complex <br>\n",
    "<b>2. String data types:</b> str <br>\n",
    "<b>3. Sequence types:</b> list, tuple, range <br>\n",
    "<b>4. Binary types:</b> bytes, bytearray, memoryview <br>\n",
    "<b>5. Mapping data type:</b> dict <br>\n",
    "<b>6. Boolean type:</b> bool <br>\n",
    "<b>7. Set data types:</b> set, frozenset <br>\n",
    "    </ol>\n",
    "<b>1. String data types:</b>  The string is a sequence of characters. Python supports Unicode characters. Generally, strings are represented by either single or double-quotes.<br>\n",
    "<b>2. Sequence types:</b>\n",
    "<ul>\n",
    "    <b>2.1 List []:</b> The list is a versatile data type exclusive in Python. In a sense, it is the same as the array. But the interesting thing about the list in Python is it can simultaneously hold different types of data.<br>\n",
    "    Example - <br>\n",
    "    <ul>\n",
    "        a = [1,2,\"Achintya\",3.2,True]<br>\n",
    "    </ul>\n",
    "    <b>2.2 Tuple ():</b>The tuple is another data type which is a sequence of data similar to a list. But it is immutable. That means data in a tuple is write-protected. Data in a tuple is written using parenthesis and commas.<br>\n",
    "    Example - <br>\n",
    "    <ul>\n",
    "        b = (1,2,\"Asthana\",)\n",
    "        </ul>\n",
    "    </ul>\n",
    "    <br>\n",
    "<b>3. Mapping data type</b>: Dictionaries are used to store data values in key:value pairs.A dictionary is a collection which is ordered*, changeable and do not allow duplicates.<br>\n",
    "Example -<br>\n",
    "<ul>\n",
    "    d = {\n",
    "  \"brand\": \"Ford\",\n",
    "  \"model\": \"Mustang\",\n",
    "  \"year\": 1964\n",
    "}"
   ]
  },
  {
   "cell_type": "markdown",
   "id": "296d6751",
   "metadata": {},
   "source": [
    "### 4. What is an expression made up of? What do all expressions do?"
   ]
  },
  {
   "cell_type": "markdown",
   "id": "3d210165",
   "metadata": {},
   "source": [
    "### Answer 4.\n",
    "An expression is a combination of operators and operands that is interpreted to produce some other value, what we oftenly call as result or output. In any programming language, an expression is evaluated as per the precedence of its operators. So that if there is more than one operator in an expression, their precedence decides which operation will be performed first. We have many different types of expressions in Python."
   ]
  },
  {
   "cell_type": "markdown",
   "id": "93641918",
   "metadata": {},
   "source": [
    "### 5. This assignment statements, like spam = 10. What is the difference between an expression and a statement?"
   ]
  },
  {
   "cell_type": "markdown",
   "id": "94704136",
   "metadata": {},
   "source": [
    "### Answer 5.\n",
    "\n",
    "<b> <u>Expressions</b></u> only contain identifiers, literals and operators, where operators include arithmetic and boolean operators, the function call operator () the subscription operator [] and similar, and can be reduced to some kind of \"value\", which can be any Python object. <br>\n",
    "Examples:\n",
    "<ol>\n",
    "    3 + 5 <br>\n",
    "    map(lambda x: x*x, range(10))<br>\n",
    "    [a.x for a in some_iterable]<br>\n",
    "    yield 7<br>\n",
    "    </ol>\n",
    "<b><u>Statements</u></b> on the other hand, are everything that can make up a line (or several lines) of Python code. Note that expressions are statements as well. <br>\n",
    "Examples:\n",
    "<ol>\n",
    "    span = 10<br>\n",
    "    print 42 <br>\n",
    "    if x: do_y() <br>\n",
    "    return <br>\n",
    "    a = 7<br>\n",
    "    </ol>"
   ]
  },
  {
   "cell_type": "markdown",
   "id": "3d1fc797",
   "metadata": {},
   "source": [
    "### 6. After running the following code, what does the variable bacon contain?\n",
    "bacon = 22<br>\n",
    "bacon + 1"
   ]
  },
  {
   "cell_type": "markdown",
   "id": "aa7bab5b",
   "metadata": {},
   "source": [
    "### Answer 6."
   ]
  },
  {
   "cell_type": "code",
   "execution_count": 5,
   "id": "8a488f00",
   "metadata": {},
   "outputs": [
    {
     "data": {
      "text/plain": [
       "23"
      ]
     },
     "execution_count": 5,
     "metadata": {},
     "output_type": "execute_result"
    }
   ],
   "source": [
    "#Answer 6.\n",
    "bacon = 22\n",
    "bacon + 1"
   ]
  },
  {
   "cell_type": "markdown",
   "id": "890d2ebb",
   "metadata": {},
   "source": [
    "### 7. What should the values of the following two terms be?\n",
    "1. &#39;spam&#39; + &#39;spamspam&#39;  <br>\n",
    "2. &#39;spam&#39; * 3"
   ]
  },
  {
   "cell_type": "markdown",
   "id": "3986f30e",
   "metadata": {},
   "source": [
    "### Anser 7.\n",
    "1. 'spamspamspam'\n",
    "2. 'spamspamspam'"
   ]
  },
  {
   "cell_type": "markdown",
   "id": "2004df42",
   "metadata": {},
   "source": [
    "### 8. Why is eggs a valid variable name while 100 is invalid?"
   ]
  },
  {
   "cell_type": "markdown",
   "id": "44d1752f",
   "metadata": {},
   "source": [
    "### Answer 8\n",
    "PEP 8 – Style Guide for Python Code, which is a documentation of coding conventions for the Python code comprising the standard library in the main Python distribution.<br>\n",
    "According to PEP 8's Naming Conventions, A variable name must start with a letter or the underscore character. A variable name cannot start with a number. A variable name can only contain alpha-numeric characters and underscores (A-z, 0-9, and _ ) <br>\n",
    "\n",
    "\n",
    "As asked variable named \"eggs\" is a valid variale name because \"eggs\" follows the convention that variable should start with alphabet or underscore. Variable named 100 is invalid because 100 only comprises of digits(0-9) and it also does not starts with any other alphabet or underscore.\n"
   ]
  },
  {
   "cell_type": "markdown",
   "id": "48732a10",
   "metadata": {},
   "source": [
    "### 9. What three functions can be used to get the integer, floating-point number, or string version of a value?"
   ]
  },
  {
   "cell_type": "markdown",
   "id": "450b3044",
   "metadata": {},
   "source": [
    "### Answer 9.\n",
    "Integer - int()<br>\n",
    "Floating-point number - float() <br>\n",
    "String - str()"
   ]
  },
  {
   "cell_type": "markdown",
   "id": "702bd30d",
   "metadata": {},
   "source": [
    "### 10. Why does this expression cause an error? How can you fix it?\n",
    "&#39;I have eaten &#39; + 99 + &#39; burritos.&#39;"
   ]
  },
  {
   "cell_type": "code",
   "execution_count": 9,
   "id": "acf7fbd9",
   "metadata": {},
   "outputs": [
    {
     "data": {
      "text/plain": [
       "'I have eaten 99 burritos.'"
      ]
     },
     "execution_count": 9,
     "metadata": {},
     "output_type": "execute_result"
    }
   ],
   "source": [
    "#Answer 10.1\n",
    "'I have eaten ' + '99' + ' burritos.'"
   ]
  },
  {
   "cell_type": "code",
   "execution_count": 10,
   "id": "112e0b55",
   "metadata": {},
   "outputs": [
    {
     "data": {
      "text/plain": [
       "'I have eaten 99 burritos.'"
      ]
     },
     "execution_count": 10,
     "metadata": {},
     "output_type": "execute_result"
    }
   ],
   "source": [
    "#Answer 10.2\n",
    "'I have eaten ' + str(99) + ' burritos.'"
   ]
  },
  {
   "cell_type": "code",
   "execution_count": null,
   "id": "e0458fde",
   "metadata": {},
   "outputs": [],
   "source": []
  }
 ],
 "metadata": {
  "kernelspec": {
   "display_name": "Python 3 (ipykernel)",
   "language": "python",
   "name": "python3"
  },
  "language_info": {
   "codemirror_mode": {
    "name": "ipython",
    "version": 3
   },
   "file_extension": ".py",
   "mimetype": "text/x-python",
   "name": "python",
   "nbconvert_exporter": "python",
   "pygments_lexer": "ipython3",
   "version": "3.8.10"
  }
 },
 "nbformat": 4,
 "nbformat_minor": 5
}
