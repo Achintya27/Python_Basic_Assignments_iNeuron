{
 "cells": [
  {
   "cell_type": "markdown",
   "id": "a80e4090",
   "metadata": {},
   "source": [
    "### 1. What does an empty dictionary&#39;s code look like?"
   ]
  },
  {
   "cell_type": "markdown",
   "id": "7c0e94ee",
   "metadata": {},
   "source": [
    "<b>1. </b> An empty dictionary code look like, ***two curly brackets: {}***.\n",
    "<br>\n",
    "dictionary = {} "
   ]
  },
  {
   "cell_type": "markdown",
   "id": "9aa89824",
   "metadata": {},
   "source": [
    "### 2. What is the value of a dictionary value with the key &#39;foo&#39; and the value 42?"
   ]
  },
  {
   "cell_type": "markdown",
   "id": "32e5bcb1",
   "metadata": {},
   "source": [
    "<b>2.</b> {\"foo\":42}"
   ]
  },
  {
   "cell_type": "code",
   "execution_count": 3,
   "id": "6027952c",
   "metadata": {},
   "outputs": [],
   "source": [
    "dictionary = {\"foo\":42}"
   ]
  },
  {
   "cell_type": "markdown",
   "id": "e66614a0",
   "metadata": {},
   "source": [
    "### 3. What is the most significant distinction between a dictionary and a list?"
   ]
  },
  {
   "cell_type": "markdown",
   "id": "2451534d",
   "metadata": {},
   "source": [
    "<b>3.</b> The difference between a dictionary and a list is that ***dictionary is an unordered key value pair of items***, while ***items in list are ordered***. "
   ]
  },
  {
   "cell_type": "markdown",
   "id": "5ae0d125",
   "metadata": {},
   "source": [
    "### 4. What happens if you try to access spam['foo'] if spam is {'bar': 100}?"
   ]
  },
  {
   "cell_type": "markdown",
   "id": "9365d691",
   "metadata": {},
   "source": [
    "<b>4.</b> If we try to access key which is not present in the dictionary then we get a KeyError."
   ]
  },
  {
   "cell_type": "code",
   "execution_count": 6,
   "id": "fd7e6455",
   "metadata": {},
   "outputs": [
    {
     "ename": "KeyError",
     "evalue": "'foo'",
     "output_type": "error",
     "traceback": [
      "\u001b[0;31m---------------------------------------------------------------------------\u001b[0m",
      "\u001b[0;31mKeyError\u001b[0m                                  Traceback (most recent call last)",
      "Input \u001b[0;32mIn [6]\u001b[0m, in \u001b[0;36m<cell line: 2>\u001b[0;34m()\u001b[0m\n\u001b[1;32m      1\u001b[0m spam \u001b[38;5;241m=\u001b[39m {\u001b[38;5;124m'\u001b[39m\u001b[38;5;124mbar\u001b[39m\u001b[38;5;124m'\u001b[39m: \u001b[38;5;241m100\u001b[39m}\n\u001b[0;32m----> 2\u001b[0m \u001b[43mspam\u001b[49m\u001b[43m[\u001b[49m\u001b[38;5;124;43m'\u001b[39;49m\u001b[38;5;124;43mfoo\u001b[39;49m\u001b[38;5;124;43m'\u001b[39;49m\u001b[43m]\u001b[49m\n",
      "\u001b[0;31mKeyError\u001b[0m: 'foo'"
     ]
    }
   ],
   "source": [
    "spam = {'bar': 100}\n",
    "spam['foo']"
   ]
  },
  {
   "cell_type": "markdown",
   "id": "636e755a",
   "metadata": {},
   "source": [
    "### 5. If a dictionary is stored in spam, what is the difference between the expressions 'cat' in spam and 'cat' in spam.keys()?"
   ]
  },
  {
   "cell_type": "markdown",
   "id": "e4d7a4b4",
   "metadata": {},
   "source": [
    "<b>5.</b> There is ***no difference*** in both the expression. The ***in*** operator in dictionary checks if the value exists as a key or not and return a boolean result."
   ]
  },
  {
   "cell_type": "code",
   "execution_count": 11,
   "id": "9bf6661c",
   "metadata": {},
   "outputs": [],
   "source": [
    "spam = {\"cat\":2,\"dog\":1}"
   ]
  },
  {
   "cell_type": "code",
   "execution_count": 12,
   "id": "bade9402",
   "metadata": {},
   "outputs": [
    {
     "data": {
      "text/plain": [
       "True"
      ]
     },
     "execution_count": 12,
     "metadata": {},
     "output_type": "execute_result"
    }
   ],
   "source": [
    "'cat' in spam"
   ]
  },
  {
   "cell_type": "code",
   "execution_count": 13,
   "id": "6c9b40d1",
   "metadata": {},
   "outputs": [
    {
     "data": {
      "text/plain": [
       "True"
      ]
     },
     "execution_count": 13,
     "metadata": {},
     "output_type": "execute_result"
    }
   ],
   "source": [
    "'cat' in spam.keys()"
   ]
  },
  {
   "cell_type": "markdown",
   "id": "6e7f8543",
   "metadata": {},
   "source": [
    "### 6. If a dictionary is stored in spam, what is the difference between the expressions 'cat' in spam and 'cat' in spam.values()?"
   ]
  },
  {
   "cell_type": "markdown",
   "id": "9808f223",
   "metadata": {},
   "source": [
    "<b>6.</b> Now here is the difference in both the expression. The expression <b>'cat' in spam</b> will look for a key named 'cat' exist in dictionary or not. And the expression <b>'cat' in spam.values()</b> will look for a value 'cat' assigned to a key exist in dictionary or not"
   ]
  },
  {
   "cell_type": "code",
   "execution_count": 16,
   "id": "acd53fba",
   "metadata": {},
   "outputs": [
    {
     "data": {
      "text/plain": [
       "True"
      ]
     },
     "execution_count": 16,
     "metadata": {},
     "output_type": "execute_result"
    }
   ],
   "source": [
    "spam = {\"cat\":2,\"dog\":1}\n",
    "'cat' in spam"
   ]
  },
  {
   "cell_type": "code",
   "execution_count": 17,
   "id": "22e46e81",
   "metadata": {},
   "outputs": [
    {
     "data": {
      "text/plain": [
       "False"
      ]
     },
     "execution_count": 17,
     "metadata": {},
     "output_type": "execute_result"
    }
   ],
   "source": [
    "'cat' in spam.values()"
   ]
  },
  {
   "cell_type": "markdown",
   "id": "4b996c2b",
   "metadata": {},
   "source": [
    "### 7. What is a shortcut for the following code?\n",
    "if 'color' not in spam: <br>\n",
    "<ol>\n",
    "    spam['color'] = 'black'"
   ]
  },
  {
   "cell_type": "markdown",
   "id": "a16f3413",
   "metadata": {},
   "source": [
    "<b>7.</b> setdefault is method of dictionary to assign a key value pair if key does not exist."
   ]
  },
  {
   "cell_type": "code",
   "execution_count": 25,
   "id": "d31d599c",
   "metadata": {},
   "outputs": [],
   "source": [
    "spam = {\"cat\":2,\"dog\":1}\n"
   ]
  },
  {
   "cell_type": "code",
   "execution_count": 26,
   "id": "c3ad8b34",
   "metadata": {},
   "outputs": [
    {
     "data": {
      "text/plain": [
       "'black'"
      ]
     },
     "execution_count": 26,
     "metadata": {},
     "output_type": "execute_result"
    }
   ],
   "source": [
    "spam.setdefault('color' , 'black')"
   ]
  },
  {
   "cell_type": "code",
   "execution_count": 27,
   "id": "6fb82b64",
   "metadata": {},
   "outputs": [
    {
     "data": {
      "text/plain": [
       "{'cat': 2, 'dog': 1, 'color': 'black'}"
      ]
     },
     "execution_count": 27,
     "metadata": {},
     "output_type": "execute_result"
    }
   ],
   "source": [
    "spam"
   ]
  },
  {
   "cell_type": "markdown",
   "id": "2632f61f",
   "metadata": {},
   "source": [
    "### 8. How do you &quot;pretty print&quot; dictionary values using which module and function?"
   ]
  },
  {
   "cell_type": "markdown",
   "id": "e2d3dd3e",
   "metadata": {},
   "source": [
    "<b>8.</b> If you import the ***pprint module*** into your programs, you’ll have access to the pprint() and pformat() functions that will “pretty print” a dictionary’s values. This is helpful when you want a cleaner display of the items in a dictionary than what print() provides"
   ]
  },
  {
   "cell_type": "code",
   "execution_count": 31,
   "id": "65203e60",
   "metadata": {},
   "outputs": [
    {
     "name": "stdout",
     "output_type": "stream",
     "text": [
      "{'A': 20,\n",
      " 'B': 12,\n",
      " 'C': 54,\n",
      " 'D': 32,\n",
      " 'E': 6,\n",
      " 'F': 45,\n",
      " 'G': {'G1': 31, 'G2': 45},\n",
      " 'H': 8,\n",
      " 'I': [4, 3, 8, 14, 27]}\n"
     ]
    }
   ],
   "source": [
    "import pprint\n",
    "dic = {\"A\":20,\"B\":12,\"C\":54,\"D\":32,\"E\":6,\"F\":45,\"G\":{\"G1\":31,\"G2\":45},\"H\":8,\"I\":[4,3,8,14,27]}\n",
    "pprint.pprint(dic)"
   ]
  },
  {
   "cell_type": "code",
   "execution_count": null,
   "id": "28952b95",
   "metadata": {},
   "outputs": [],
   "source": []
  }
 ],
 "metadata": {
  "kernelspec": {
   "display_name": "Python 3 (ipykernel)",
   "language": "python",
   "name": "python3"
  },
  "language_info": {
   "codemirror_mode": {
    "name": "ipython",
    "version": 3
   },
   "file_extension": ".py",
   "mimetype": "text/x-python",
   "name": "python",
   "nbconvert_exporter": "python",
   "pygments_lexer": "ipython3",
   "version": "3.8.10"
  }
 },
 "nbformat": 4,
 "nbformat_minor": 5
}
